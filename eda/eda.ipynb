{
  "cells": [
    {
      "cell_type": "code",
      "execution_count": null,
      "metadata": {
        "id": "2pgTmUuCSNXZ"
      },
      "outputs": [],
      "source": [
        "import os\n",
        "import pandas as pd\n",
        "import matplotlib.pyplot as plt\n",
        "import seaborn as sns\n",
        "\n",
        "from glob import glob\n",
        "from collections import defaultdict\n",
        "from PIL import Image\n",
        "import numpy as np\n",
        "import cv2"
      ]
    },
    {
      "cell_type": "markdown",
      "metadata": {
        "id": "tqQ6pgmeSNXa"
      },
      "source": [
        "# 1. Images Metadata"
      ]
    },
    {
      "cell_type": "code",
      "execution_count": null,
      "metadata": {
        "id": "eUpVmgQ9SNXa"
      },
      "outputs": [],
      "source": [
        "# 학습 데이터의 경로와 정보를 가진 파일의 경로를 설정\n",
        "traindata_dir = \"./data/train\"\n",
        "traindata_info_file = \"./data/train.csv\"\n",
        "\n",
        "# 테스트 데이터의 경로와 정보를 가진 파일의 경로를 설정\n",
        "testdata_dir = \"./data/test\"\n",
        "testdata_info_file = \"./data/test.csv\""
      ]
    },
    {
      "cell_type": "code",
      "execution_count": null,
      "metadata": {
        "id": "RmwVas4sTd6G"
      },
      "outputs": [],
      "source": [
        "from google.colab import drive\n",
        "drive.mount('/content/drive')"
      ]
    },
    {
      "cell_type": "code",
      "execution_count": null,
      "metadata": {
        "id": "Ne6JjtdJSNXb"
      },
      "outputs": [],
      "source": [
        "# 학습 데이터의 class, image path, target에 대한 정보가 들어있는 csv파일을 읽기\n",
        "train_data = pd.read_csv(traindata_info_file)\n",
        "\n",
        "# 테스트 데이터\n",
        "test_data = pd.read_csv(testdata_info_file)"
      ]
    },
    {
      "cell_type": "code",
      "execution_count": null,
      "metadata": {
        "id": "2Pi5GHcwSNXb"
      },
      "outputs": [],
      "source": [
        "# 학습 데이터의 정보를 출력\n",
        "train_info = train_data.info()\n",
        "train_head = train_data.head()\n",
        "\n",
        "train_info, train_head"
      ]
    },
    {
      "cell_type": "markdown",
      "metadata": {
        "id": "RacPK5ctSNXb"
      },
      "source": [
        "주어진 학습 데이터셋은 15021개의 항목과 3개의 컬럼으로 구성되어 있다.\n",
        "1. class_name: 클래스 이름, string\n",
        "2. image_path: 이미지 파일의 경로, string\n",
        "3. target: 클래스를 의미하는 숫자아이디, integer"
      ]
    },
    {
      "cell_type": "code",
      "execution_count": null,
      "metadata": {
        "id": "Evc1b5_dSNXb"
      },
      "outputs": [],
      "source": [
        "# 테스트 데이터의 정보를 출력.\n",
        "test_info = test_data.info()\n",
        "test_head = test_data.head()\n",
        "\n",
        "test_info, test_head"
      ]
    },
    {
      "cell_type": "markdown",
      "metadata": {
        "id": "0xaKgxWBSNXc"
      },
      "source": [
        "주어진 테스트 데이터셋은 10014개의 항목과 1개의 컬럼으로 구성되어 있다.\n",
        "1. image_path: 이미지 파일의 경로, string"
      ]
    },
    {
      "cell_type": "code",
      "execution_count": null,
      "metadata": {
        "id": "V-lphMawSNXc"
      },
      "outputs": [],
      "source": [
        "# 데이터의 기본적인 통계 정보를 출력\n",
        "data_description = train_data.describe(include='all')\n",
        "\n",
        "# class_name의 unique한 값의 개수를 출력\n",
        "unique_classes = train_data['class_name'].nunique()\n",
        "\n",
        "# target의 unique한 값의 개수를 출력\n",
        "unique_targets = train_data['target'].nunique()\n",
        "\n",
        "data_description, unique_classes, unique_targets"
      ]
    },
    {
      "cell_type": "markdown",
      "metadata": {
        "id": "faoLTIKcSNXc"
      },
      "source": [
        "기본 통계\n",
        "- 데이터셋에는 15,021개의 항목이 있음\n",
        "- 500개의 고유한 클래스 이름과 15021개의 고유한 이미지 경로가 존재\n",
        "- Target값은 0에서 499까지 500개의 값을 가지고 있음"
      ]
    },
    {
      "cell_type": "code",
      "execution_count": null,
      "metadata": {
        "id": "07u6S6elSNXc"
      },
      "outputs": [],
      "source": [
        "plt.figure(figsize=(16, 10))\n",
        "\n",
        "# class_name별로 샘플의 개수를 출력\n",
        "sns.countplot(y=train_data['class_name'], order=train_data['class_name'].value_counts().index, palette='viridis')\n",
        "plt.title('Distribution of Samples per Class')\n",
        "plt.xlabel('Number of Samples')\n",
        "plt.ylabel('Class Name')\n",
        "\n",
        "# target 값의 분포를 출력\n",
        "plt.figure(figsize=(16, 10))\n",
        "sns.histplot(train_data['target'], bins=500, kde=False, palette='viridis')\n",
        "plt.title('Distribution of Target Values')\n",
        "plt.xlabel('Target Value')\n",
        "plt.ylabel('Number of Samples')\n",
        "\n",
        "plt.show()"
      ]
    },
    {
      "cell_type": "markdown",
      "metadata": {
        "id": "kCrNnks1SNXc"
      },
      "source": [
        "Class name 분포\n",
        "- 대부분 29에서 31 사이의 값을 가지고 있음\n",
        "\n",
        "Target 분포\n",
        "- 대부분 29에서 31 사이의 값을 가지고 있음\n",
        "\n",
        "데이터 셋 전반적으로 Class name, Target에 대해서 29~31개의 값을 가지고 있음."
      ]
    },
    {
      "cell_type": "markdown",
      "metadata": {
        "id": "uSfiW8AbSNXc"
      },
      "source": [
        "# 2. Images - Exploration and processing"
      ]
    },
    {
      "cell_type": "code",
      "execution_count": null,
      "metadata": {
        "id": "T8aKotESSNXd"
      },
      "outputs": [],
      "source": [
        "# glob을 이용하여 이미지 파일의 경로를 읽어옴\n",
        "train_images = glob(traindata_dir + \"/*/*\")\n",
        "test_images = glob(testdata_dir + \"/*\")\n",
        "print(f\"Number of train images: {len(train_images)}\")\n",
        "print(f\"Number of test images: {len(test_images)}\")"
      ]
    },
    {
      "cell_type": "markdown",
      "metadata": {
        "id": "YfYmMJshSNXd"
      },
      "source": [
        "## 2.1 Getting Image's statistics"
      ]
    },
    {
      "cell_type": "code",
      "execution_count": null,
      "metadata": {
        "id": "LSI_LVpOSNXd"
      },
      "outputs": [],
      "source": [
        "image_prop = defaultdict(list)\n",
        "\n",
        "for i, path in enumerate(train_images):\n",
        "    with Image.open(path) as img:\n",
        "        image_prop['height'].append(img.height)\n",
        "        image_prop['width'].append(img.width)\n",
        "        image_prop['img_aspect_ratio'] = img.width / img.height\n",
        "        image_prop['mode'].append(img.mode)\n",
        "        image_prop['format'].append(img.format)\n",
        "        image_prop['size'].append(round(os.path.getsize(path) / 1e6, 2))\n",
        "    image_prop['path'].append(path)\n",
        "    image_prop['image_path'].append(path.split('/')[-2] + \"/\" + path.split('/')[-1])\n",
        "\n",
        "image_data = pd.DataFrame(image_prop)\n",
        "\n",
        "image_data = image_data.merge(train_data, on='image_path')\n",
        "#image_data.sort_values(by='target', inplace=True)\n"
      ]
    },
    {
      "cell_type": "code",
      "execution_count": null,
      "metadata": {
        "id": "5XdifkkISNXd"
      },
      "outputs": [],
      "source": [
        "# 이미지의 특징을 추출하는 함수\n",
        "def extract_image_features(image_path):\n",
        "    \"\"\"\n",
        "    Extracts features from an image.\n",
        "    Args:\n",
        "        image_path (str): Path to the image file.\n",
        "    Returns:\n",
        "        width (int): Width of the image.\n",
        "        height (int): Height of the image.\n",
        "        mode (str): Mode of the image.\n",
        "        format (str): Format of the image.\n",
        "        size (int): Size of the image.\n",
        "        mean_red (float): Mean of red channel.\n",
        "        mean_green (float): Mean of green channel.\n",
        "        mean_blue (float): Mean of blue channel.\n",
        "    \"\"\"\n",
        "    try:\n",
        "        with Image.open(image_path) as img:\n",
        "            img = img.convert('RGB')\n",
        "            width, height = img.size\n",
        "            img_array = np.array(img)\n",
        "            mean_red = np.mean(img_array[:, :, 0])\n",
        "            mean_green = np.mean(img_array[:, :, 1])\n",
        "            mean_blue = np.mean(img_array[:, :, 2])\n",
        "            format = image_path.split('.')[-1].upper()\n",
        "            return width, height, img.mode, format, os.path.getsize(image_path), mean_red, mean_green, mean_blue\n",
        "    except Exception as e:\n",
        "        return None, None, None, None, None, None, None, None\n",
        "\n",
        "image_prop = defaultdict(list)\n",
        "\n",
        "for i, path in enumerate(train_images):\n",
        "    width, height, mode, format, size, mean_red, mean_green, mean_blue = extract_image_features(path)\n",
        "    image_prop['height'].append(height)\n",
        "    image_prop['width'].append(width)\n",
        "    image_prop['mode'].append(mode)\n",
        "    image_prop['format'].append(format)\n",
        "    image_prop['size'].append(round(size / 1e6, 2) if size else None)\n",
        "    image_prop['mean_red'].append(mean_red)\n",
        "    image_prop['mean_green'].append(mean_green)\n",
        "    image_prop['mean_blue'].append(mean_blue)\n",
        "    image_prop['path'].append(path)\n",
        "    image_prop['image_path'].append(path.split('/')[-2] + \"/\" + path.split('/')[-1])\n",
        "\n",
        "image_data = pd.DataFrame(image_prop)\n",
        "image_data['img_aspect_ratio'] = image_data['width'] / image_data['height']\n",
        "\n",
        "image_data = image_data.merge(train_data, on='image_path')\n",
        "image_data.sort_values(by='target', inplace=True)\n"
      ]
    },
    {
      "cell_type": "markdown",
      "metadata": {
        "id": "rupVLup4SNXd"
      },
      "source": [
        "### 2.1.1 이미지 파일크기 분석"
      ]
    },
    {
      "cell_type": "code",
      "execution_count": null,
      "metadata": {
        "id": "P6SWjPRXSNXd"
      },
      "outputs": [],
      "source": [
        "plt.figure(figsize=(16, 10))\n",
        "\n",
        "# 이미지 파일의 크기 분포를 출력\n",
        "sns.histplot(image_data['size'], bins=30, kde=True, color='green')\n",
        "plt.title('Distribution of Image File Sizes')\n",
        "plt.xlabel('Size (MB)')\n",
        "plt.ylabel('Frequency')\n",
        "\n",
        "plt.show()"
      ]
    },
    {
      "cell_type": "markdown",
      "metadata": {
        "id": "ANdFQIWnSNXd"
      },
      "source": [
        "이미지 파일 크기 분포\n",
        "- 대부분 이미지 파일 크기는 0.05 ~ 0.1 MB 사이에 분포"
      ]
    },
    {
      "cell_type": "markdown",
      "metadata": {
        "id": "mePBYHumSNXd"
      },
      "source": [
        "### 2.1.2 이미지 파일크기 분석"
      ]
    },
    {
      "cell_type": "code",
      "execution_count": null,
      "metadata": {
        "id": "tEy-TnHtSNXd"
      },
      "outputs": [],
      "source": [
        "plt.figure(figsize=(16, 10))\n",
        "# Image height의 분포를 출력\n",
        "plt.subplot(1, 2, 1)\n",
        "sns.histplot(image_data['height'], bins=30, kde=True, color='skyblue')\n",
        "plt.title('Distribution of Image Height')\n",
        "plt.xlabel('Height')\n",
        "plt.ylabel('Frequency')\n",
        "\n",
        "# Image width의 분포를 출력\n",
        "plt.subplot(1, 2, 2)\n",
        "sns.histplot(image_data['width'], bins=30, kde=True, color='orange')\n",
        "plt.title('Distribution of Image Width')\n",
        "plt.xlabel('Width')\n",
        "plt.ylabel('Frequency')\n",
        "\n",
        "plt.tight_layout()\n",
        "plt.show()"
      ]
    },
    {
      "cell_type": "markdown",
      "metadata": {
        "id": "nehdjaKuSNXd"
      },
      "source": [
        "이미지의 높이와 너비 분포\n",
        "- 이미지 높이: 대부분 이미지 높이는 400에서 800 픽셀 사이에 분포\n",
        "- 이미지 너비: 대부분 이미지 너비는 400에서 800 픽셀 사이에 분포"
      ]
    },
    {
      "cell_type": "code",
      "execution_count": null,
      "metadata": {
        "id": "jlCNVu2ASNXe"
      },
      "outputs": [],
      "source": [
        "plt.figure(figsize=(10, 6))\n",
        "\n",
        "# 이미지의 가로 세로 비율을 출력\n",
        "sns.histplot(image_data['img_aspect_ratio'], bins=30, kde=True, color='purple')\n",
        "plt.title('Distribution of Image Aspect Ratios')\n",
        "plt.xlabel('Aspect Ratio')\n",
        "plt.ylabel('Frequency')\n",
        "\n",
        "plt.show()\n"
      ]
    },
    {
      "cell_type": "markdown",
      "metadata": {
        "id": "yB1eZp_USNXe"
      },
      "source": [
        "가로세로 비율 분포\n",
        "- 대부분의 이미지 가로세로 비율을 0.8에서 1.2사이에 분포"
      ]
    },
    {
      "cell_type": "code",
      "execution_count": null,
      "metadata": {
        "id": "9XBWvK4mSNXe"
      },
      "outputs": [],
      "source": [
        "# 10개의 샘플 선택\n",
        "sample_classes = image_data['class_name'].unique()[:10]\n",
        "\n",
        "# 각 클래스별로 RGB값의 평균을 계산\n",
        "mean_rgb_per_class = image_data[image_data['class_name'].isin(sample_classes)].groupby('class_name')[['mean_red', 'mean_green', 'mean_blue']].mean()\n",
        "\n",
        "# 클래스별로 RGB값의 평균을 출력\n",
        "mean_rgb_per_class.plot(kind='bar', figsize=(16, 10), color=['red', 'green', 'blue'])\n",
        "plt.title('Mean RGB Values per Class')\n",
        "plt.xlabel('Class Name')\n",
        "plt.ylabel('Mean RGB Value')\n",
        "plt.xticks(rotation=45)\n",
        "plt.legend(['Mean Red', 'Mean Green', 'Mean Blue'])\n",
        "plt.show()\n"
      ]
    },
    {
      "cell_type": "code",
      "execution_count": null,
      "metadata": {
        "id": "_U7PAvtKSNXe"
      },
      "outputs": [],
      "source": [
        "# RGB값의 평균 분포를 출력\n",
        "plt.figure(figsize=(14, 6))\n",
        "\n",
        "# mean_red 값의 분포를 출력\n",
        "plt.subplot(1, 3, 1)\n",
        "sns.histplot(image_data['mean_red'], bins=30, kde=True, color='red')\n",
        "plt.title('Distribution of Mean Red Values')\n",
        "plt.xlabel('Mean Red Value')\n",
        "plt.ylabel('Frequency')\n",
        "\n",
        "# mean_green 값의 분포를 출력\n",
        "plt.subplot(1, 3, 2)\n",
        "sns.histplot(image_data['mean_green'], bins=30, kde=True, color='green')\n",
        "plt.title('Distribution of Mean Green Values')\n",
        "plt.xlabel('Mean Green Value')\n",
        "plt.ylabel('Frequency')\n",
        "\n",
        "# mean_blue 값의 분포를 출력\n",
        "plt.subplot(1, 3, 3)\n",
        "sns.histplot(image_data['mean_blue'], bins=30, kde=True, color='blue')\n",
        "plt.title('Distribution of Mean Blue Values')\n",
        "plt.xlabel('Mean Blue Value')\n",
        "plt.ylabel('Frequency')\n",
        "\n",
        "plt.tight_layout()\n",
        "plt.show()\n"
      ]
    },
    {
      "cell_type": "markdown",
      "metadata": {
        "id": "YECBWMq9SNXe"
      },
      "source": [
        "색상 분포 분석\n",
        "- 대부분 RGB, Green, Blue값이 200~250사이에 분포\n",
        "- 전박적으로 이미지의 밝기와 채도가 높은 편"
      ]
    },
    {
      "cell_type": "code",
      "execution_count": null,
      "metadata": {
        "id": "nRkDnQXlSNXe"
      },
      "outputs": [],
      "source": [
        "# 각 클래스별로 이미지의 평균 높이와 너비를 계산\n",
        "class_size_stats = image_data.groupby('class_name')[['height', 'width']].mean().reset_index()\n",
        "\n",
        "# 각 클래스별로 이미지의 평균 높이와 너비를 출력\n",
        "plt.figure(figsize=(16, 10))\n",
        "\n",
        "# 클래스별 이미지의 평균 높이를 출력\n",
        "plt.subplot(1, 2, 1)\n",
        "sns.barplot(x='height', y='class_name', data=class_size_stats.sort_values(by='height', ascending=False), palette='viridis')\n",
        "plt.title('Mean Image Height by Class')\n",
        "plt.xlabel('Mean Height')\n",
        "plt.ylabel('Class Name')\n",
        "\n",
        "# 클래스별 이미지의 평균 너비를 출력\n",
        "plt.subplot(1, 2, 2)\n",
        "sns.barplot(x='width', y='class_name', data=class_size_stats.sort_values(by='width', ascending=False), palette='viridis')\n",
        "plt.title('Mean Image Width by Class')\n",
        "plt.xlabel('Mean Width')\n",
        "plt.ylabel('Class Name')\n",
        "\n",
        "plt.tight_layout()\n",
        "plt.show()"
      ]
    },
    {
      "cell_type": "markdown",
      "metadata": {
        "id": "B3u6NmhLSNXe"
      },
      "source": [
        "클래스별 이미지 크기 분포\n",
        "- 대부분 클래스는 300에서 800 픽셀 사이의 평균 높이를 가지고 있음\n",
        "- 대부분 클래스느 300에서 800 픽셀 사이의 평균 너비를 가지고 있음"
      ]
    },
    {
      "cell_type": "code",
      "execution_count": null,
      "metadata": {
        "id": "ummlzfmrSNXe"
      },
      "outputs": [],
      "source": [
        "plt.figure(figsize=(16, 10))\n",
        "\n",
        "# mean_red 값의 분포를 출력\n",
        "plt.subplot(1, 3, 1)\n",
        "sns.boxplot(x='target', y='mean_red', data=image_data, palette='Reds')\n",
        "plt.title('Mean Red Value Distribution by Target')\n",
        "plt.xlabel('Target')\n",
        "plt.ylabel('Mean Red Value')\n",
        "plt.xticks(rotation=90)\n",
        "\n",
        "# mean_green 값의 분포를 출력\n",
        "plt.subplot(1, 3, 2)\n",
        "sns.boxplot(x='target', y='mean_green', data=image_data, palette='Greens')\n",
        "plt.title('Mean Green Value Distribution by Target')\n",
        "plt.xlabel('Target')\n",
        "plt.ylabel('Mean Green Value')\n",
        "plt.xticks(rotation=90)\n",
        "\n",
        "# mean_blue 값의 분포를 출력\n",
        "plt.subplot(1, 3, 3)\n",
        "sns.boxplot(x='target', y='mean_blue', data=image_data, palette='Blues')\n",
        "plt.title('Mean Blue Value Distribution by Target')\n",
        "plt.xlabel('Target')\n",
        "plt.ylabel('Mean Blue Value')\n",
        "plt.xticks(rotation=90)\n",
        "\n",
        "plt.tight_layout()\n",
        "plt.show()\n"
      ]
    },
    {
      "cell_type": "markdown",
      "metadata": {
        "id": "WON54qa8SNXe"
      },
      "source": [
        "클래스별 이미지 색상의 분포\n",
        "- 대부분 Red, Green, Blue 값은 200에서 250 사이에 분포"
      ]
    },
    {
      "cell_type": "markdown",
      "metadata": {
        "id": "ajKUfhR6SNXe"
      },
      "source": [
        "## 2.2 Displaying images"
      ]
    },
    {
      "cell_type": "code",
      "execution_count": null,
      "metadata": {
        "id": "mcbDA_pJSNXe"
      },
      "outputs": [],
      "source": [
        "# 같은 target을 가진 이미지 전체 출력\n",
        "def display_images(data, target):\n",
        "    len_data = len(data[data['target'] == target])\n",
        "    fig, axs = plt.subplots((len_data // 5)+1, 5, figsize=(16, 10))\n",
        "    images = data[data['target'] == target]['path'].values\n",
        "    for i, path in enumerate(images):\n",
        "        img = Image.open(path)\n",
        "        ax = axs[i // 5, i % 5]  # Use double indexing for 2D subplots\n",
        "        ax.imshow(img)\n",
        "        ax.axis('off')\n",
        "    plt.show()\n",
        "\n",
        "# target이 0인 이미지 출력\n",
        "display_images(image_data, target=1)"
      ]
    },
    {
      "cell_type": "markdown",
      "metadata": {
        "id": "WZ1zOMXgSNXe"
      },
      "source": [
        "### 2.2.1 Displying random images using PIL"
      ]
    },
    {
      "cell_type": "code",
      "execution_count": null,
      "metadata": {
        "id": "3ALbknxcSNXf"
      },
      "outputs": [],
      "source": [
        "# 이미지를 랜덤으로 5개 출력\n",
        "plt.style.use('default')\n",
        "fig, axex = plt.subplots(2, 5, figsize=(16, 10))\n",
        "for ax in axex.reshape(-1):\n",
        "    img_path = np.random.choice(train_images)\n",
        "    img = Image.open(img_path)\n",
        "    ax.imshow(img)\n",
        "    ax.set_title(f\"Image name: {img_path.split('/')[-1]}\")\n",
        "plt.show()"
      ]
    },
    {
      "cell_type": "code",
      "execution_count": null,
      "metadata": {
        "id": "vSdRY0OWSNXf"
      },
      "outputs": [],
      "source": [
        "# 가장 큰 이미지를 출력\n",
        "biggest_img_path = image_data.iloc[image_data['size'].idxmax(),:]['path']\n",
        "\n",
        "img = Image.open(biggest_img_path)\n",
        "plt.title(f\"Biggest image: {biggest_img_path.split('/')[-1]}\")\n",
        "plt.imshow(img)\n",
        "del img"
      ]
    },
    {
      "cell_type": "code",
      "execution_count": null,
      "metadata": {
        "id": "mSrbiFckSNXf"
      },
      "outputs": [],
      "source": [
        "# 4개의 작은 이미지를 출력\n",
        "smallest_img_paths = image_data.nsmallest(4, 'size')['path']\n",
        "smallest_img_paths.values"
      ]
    },
    {
      "cell_type": "code",
      "execution_count": null,
      "metadata": {
        "id": "R4UUkAk6SNXi"
      },
      "outputs": [],
      "source": [
        "import matplotlib.image as mpimg\n",
        "\n",
        "# 4개의 작은 이미지를 출력\n",
        "fig, axes = plt.subplots(1, 4, figsize=(16, 10))\n",
        "for i, ax in enumerate(axes.reshape(-1)):\n",
        "    img = mpimg.imread(smallest_img_paths.values[i])\n",
        "    ax.title.set_text(f\"Smallest image: {smallest_img_paths.values[i].split('/')[-1]}\")\n",
        "    ax.imshow(img)\n",
        "plt.show()"
      ]
    },
    {
      "cell_type": "code",
      "execution_count": null,
      "metadata": {
        "id": "rtGfH6IRSNXj"
      },
      "outputs": [],
      "source": [
        "# 이미지의 종횡비가 가장 큰 이미지를 출력\n",
        "biggest_aspect_ratio_img_path = image_data.iloc[image_data['img_aspect_ratio'].idxmax(),:]['path']\n",
        "\n",
        "fig, ax = plt.subplots(1, 1, figsize=(16, 10))\n",
        "img = Image.open(biggest_aspect_ratio_img_path)\n",
        "plt.title(f\"Biggest aspect ratio image: {biggest_aspect_ratio_img_path.split('/')[-1]}\")\n",
        "plt.imshow(img)"
      ]
    },
    {
      "cell_type": "markdown",
      "metadata": {
        "id": "Y1SB4RJjSNXj"
      },
      "source": [
        "### 2.2.2 Diplaying, resizing and manipulation using CV2"
      ]
    },
    {
      "cell_type": "code",
      "execution_count": null,
      "metadata": {
        "id": "c8wqlj2uSNXj"
      },
      "outputs": [],
      "source": [
        "img_path = train_images[10]\n",
        "selected_img = image_data[image_data['path'] == img_path]\n",
        "selected_img"
      ]
    },
    {
      "cell_type": "code",
      "execution_count": null,
      "metadata": {
        "id": "0nv3m08vSNXj"
      },
      "outputs": [],
      "source": [
        "img = mpimg.imread(img_path)\n",
        "plt.imshow(img)\n",
        "plt.axis('off')\n",
        "plt.show()"
      ]
    },
    {
      "cell_type": "code",
      "execution_count": null,
      "metadata": {
        "id": "26Xk0oFPSNXj"
      },
      "outputs": [],
      "source": [
        "img = cv2.imread(img_path, cv2.IMREAD_COLOR)\n",
        "resized_img = cv2.resize(img, (0,0), fx=0.5, fy=0.5)\n",
        "\n",
        "fig, ax = plt.subplots(1, 2, figsize=(16, 10))\n",
        "ax[0].imshow(img)\n",
        "ax[0].set_title(\"Original image\")\n",
        "ax[1].imshow(resized_img)\n",
        "ax[1].set_title(\"Resized image\")\n",
        "plt.show()"
      ]
    },
    {
      "cell_type": "markdown",
      "metadata": {
        "id": "c32gHCWjI_NM"
      },
      "source": [
        "# Failure Analysis"
      ]
    },
    {
      "cell_type": "code",
      "execution_count": null,
      "metadata": {
        "id": "LEUYoxltJKC9"
      },
      "outputs": [],
      "source": [
        "class DataProcessor:\n",
        "    def __init__(self, train_df, output_df, target_folder='/content/data/'):\n",
        "        self.train_df = train_df\n",
        "        self.output_df = output_df\n",
        "        self.target_folder = target_folder\n",
        "\n",
        "    # 클래스 내부에서만 처리\n",
        "\n",
        "    # 전처리 output_df 전처리\n",
        "    def _preprocess_df(self):\n",
        "        # output_df ID열 삭제\n",
        "        self.output_df.drop('ID', axis=1, inplace=True, errors='ignore')\n",
        "\n",
        "        # output_df 컬럼명 변경\n",
        "        self.output_df = self.output_df.rename(columns={'image_path' : 'test_image_path', 'target' : 'predicted_target'})\n",
        "\n",
        "        return self.output_df\n",
        "\n",
        "    # 데이터 폴더에 ._ 되어있는 파일 삭제 함수\n",
        "    def _delete_useless_files(self):\n",
        "        # os.walk()를 사용하여 폴더와 하위 폴더를 재귀적으로 탐색\n",
        "        for root, _, files in os.walk(self.target_folder):\n",
        "            for filename in files:\n",
        "                # 파일명이 '._'로 시작하는지 확인\n",
        "                if filename.startswith('._'):\n",
        "                    file_path = os.path.join(root, filename)\n",
        "                    # 해당 파일 삭제\n",
        "                    os.remove(file_path)\n",
        "\n",
        "    def visualize_predicted(self, idx, train_dir, test_dir):\n",
        "        self._preprocess_df()\n",
        "        self._delete_useless_files()\n",
        "\n",
        "        # idx에 해당하는 테스트 이미지 경로\n",
        "        test_path = os.path.join(test_dir, self.output_df['test_image_path'].iloc[idx].upper())\n",
        "        # idx에 해당하는 훈련 이미지 폴더 경로\n",
        "        train_path = os.path.join(train_dir, self.output_df['class_name'].iloc[idx])\n",
        "\n",
        "        # 예측한 데이터의 클래스 폴더명\n",
        "        class_name = self.output_df['class_name'].iloc[idx]\n",
        "\n",
        "        # test_path에 해당하는 테스트 이미지\n",
        "        test_image = Image.open(test_path).convert('RGB')\n",
        "\n",
        "        # 테스트 이미지 시각화\n",
        "        plt.figure(figsize=(3, 3))\n",
        "        plt.imshow(test_image)\n",
        "        plt.title('Test Image')\n",
        "        plt.axis('off')\n",
        "        plt.show(block=False)\n",
        "\n",
        "        # 테스트 이미지를 보고 예측한 target 폴더 순회하며 이미지 시각화\n",
        "        for dirpath, _, files in os.walk(train_path):\n",
        "\n",
        "            # 폴더 안 이미지 개수, num_diplay 중 작은 값\n",
        "            num_images = len(files)\n",
        "\n",
        "            # 폴더 이미지 기준으로 cols, rows 지정\n",
        "            cols = math.ceil(math.sqrt(num_images))\n",
        "            rows = math.ceil(num_images / cols)\n",
        "\n",
        "            # 서브 플롯 생성\n",
        "            print(idx)\n",
        "            fig, axes = plt.subplots(rows, cols, figsize=(cols * 8, rows * 4))\n",
        "\n",
        "            print()\n",
        "            print(f'Target Label : {label}')\n",
        "\n",
        "            if rows == 1 or cols == 1:\n",
        "                axes = axes.flatten()\n",
        "\n",
        "            # 폴더를 순회하며 이미지 시각화\n",
        "            for i, file_name in enumerate(files):\n",
        "                # JPEG 확장자만 처리\n",
        "                if file_name.lower().endswith('.jpeg'):\n",
        "                    # 각 이미지 경로\n",
        "                    target_dir = os.path.join(dirpath, file_name)\n",
        "                    image = Image.open(target_dir).resize((128, 128)).convert('RGB')\n",
        "                    # 서브 플롯 계산\n",
        "                    if isinstance(axes, np.ndarray):\n",
        "                        if len(axes.shape) == 1:\n",
        "                            ax = axes[i]\n",
        "                        else:\n",
        "                            ax = axes[i // cols, i % cols]\n",
        "                    else:\n",
        "                        ax = axes\n",
        "\n",
        "                ax.imshow(image)\n",
        "                ax.axis('off')\n",
        "\n",
        "        plt.tight_layout()\n",
        "        # 빈 서브플롯 남았을 경우 삭제\n",
        "        for j in range(num_images, rows * cols):\n",
        "            fig.delaxes(axes.flatten()[j])\n",
        "\n",
        "        plt.show()\n",
        "        print()\n",
        "        print('-----------------------------------------------------------------------------------------------------')\n",
        "        print()\n",
        "\n",
        "    def get_predicted_indices_by_class(self, class_name):\n",
        "        # 전처리 수행\n",
        "        self._preprocess_df()\n",
        "\n",
        "        # 클래스 이름을 대문자로 변환하여 일관성 유지\n",
        "        class_name_upper = class_name.upper()\n",
        "\n",
        "        # `output_df`에서 해당 클래스를 예측한 인덱스들을 찾은 후 리스트로 반환\n",
        "        indices = self.output_df[self.output_df['class_name'].str.upper() == class_name_upper].index.tolist()\n",
        "\n",
        "        # 인덱스를 반환\n",
        "        return indices\n",
        "\n",
        "    def visualize_images_by_class(self, class_name, train_dir, test_dir, max_images=None):\n",
        "        \"\"\"\n",
        "        :param class_name: 시각화할 클래스 이름\n",
        "        :param train_dir: 훈련 데이터 디렉토리\n",
        "        :param test_dir: 테스트 데이터 디렉토리\n",
        "        :param max_images: 시각화할 최대 이미지 수, 기본값은 None (모든 이미지를 시각화)\n",
        "        :return: None\n",
        "        \"\"\"\n",
        "        # 해당 class_name으로 예측된 인덱스 가져오기\n",
        "        indices = self.get_predicted_indices_by_class(class_name)\n",
        "\n",
        "        # 최대 이미지 수 제한 (max_images가 설정되어 있을 때만)\n",
        "        if max_images is not None:\n",
        "            indices = indices[:max_images]\n",
        "\n",
        "        print(f'Class Name: {class_name}, Visualizing {len(indices)} images.')\n",
        "\n",
        "        # 각 인덱스의 이미지를 시각화\n",
        "        num_images = len(indices)\n",
        "        if num_images == 0:\n",
        "            print(f\"No images found for class '{class_name}'\")\n",
        "            return\n",
        "\n",
        "        # 지정할 행과 열의 개수 (이미지를 그릴 수 있는 그리드 크기)\n",
        "        cols = math.ceil(math.sqrt(num_images))\n",
        "        rows = math.ceil(num_images / cols)\n",
        "\n",
        "        fig, axes = plt.subplots(rows, cols, figsize=(cols * 8, rows * 4))\n",
        "\n",
        "        if rows == 1 or cols == 1:\n",
        "            axes = axes.flatten()\n",
        "\n",
        "        # 인덱스를 순회하며 테스트 이미지들을 시각화\n",
        "        for i, idx in enumerate(indices):\n",
        "            # idx에 해당하는 테스트 이미지 경로를 계산\n",
        "            test_path = os.path.join(test_dir, self.output_df['test_image_path'].iloc[idx].upper())\n",
        "            test_image = Image.open(test_path).convert('RGB')\n",
        "            test_image = test_image.resize((128, 128))\n",
        "\n",
        "            # 서브 플롯에 이미지 추가\n",
        "            if isinstance(axes, np.ndarray):\n",
        "                if len(axes.shape) == 1:\n",
        "                    ax = axes[i]\n",
        "                else:\n",
        "                    ax = axes[i // cols, i % cols]\n",
        "            else:\n",
        "                ax = axes\n",
        "\n",
        "            ax.imshow(test_image)\n",
        "            ax.set_title(f\"Idx: {idx}\")\n",
        "            ax.axis('off')\n",
        "\n",
        "        # 빈 서브플롯 삭제 (필요한 경우)\n",
        "        for j in range(num_images, rows * cols):\n",
        "            fig.delaxes(axes.flatten()[j])\n",
        "\n",
        "        plt.tight_layout()\n",
        "        plt.show()"
      ]
    },
    {
      "cell_type": "code",
      "execution_count": null,
      "metadata": {
        "id": "w-VpUdNZLhFh"
      },
      "outputs": [],
      "source": [
        "# 경로 정의\n",
        "\n",
        "# Aistage에서 다운받은 output.csv 경로\n",
        "output_path = '/content/output.csv'\n",
        "output_df = pd.read_csv(output_path)\n",
        "\n",
        "# train 데이터 셋\n",
        "train_df = pd.read_csv('/content/data/train.csv')\n",
        "\n",
        "train_dir = '/content/data/train'\n",
        "test_dir = '/content/data/test'"
      ]
    },
    {
      "cell_type": "code",
      "execution_count": null,
      "metadata": {
        "id": "_lhCmpFcLk2I"
      },
      "outputs": [],
      "source": [
        "# 클래스 선언\n",
        "processor = DataProcessor(train_df=train_df, output_df=output_df, class_dict=class_dict)"
      ]
    },
    {
      "cell_type": "code",
      "execution_count": null,
      "metadata": {
        "id": "CoKoZfZ1Llyk"
      },
      "outputs": [],
      "source": [
        "processor.visualize_predicted(1, train_dir, test_dir)"
      ]
    },
    {
      "cell_type": "code",
      "execution_count": null,
      "metadata": {
        "id": "b02zDjpSLpxh"
      },
      "outputs": [],
      "source": [
        "processor.visualize_images_by_class('n03598930', train_dir, test_dir)  # 원하는 클래스를 넣어줍니다."
      ]
    },
    {
      "cell_type": "markdown",
      "metadata": {
        "id": "SPA3WEg0Lqt8"
      },
      "source": [
        "# 중복 이미지 탐지\n",
        "\n",
        "- 서로 다른 클래스 내에 중복 이미지를 탐지하고 딕셔너리 형태로 저장하는 Class"
      ]
    },
    {
      "cell_type": "code",
      "execution_count": null,
      "metadata": {
        "id": "UE1PkHkQLrpk"
      },
      "outputs": [],
      "source": [
        "def images_are_exactly_equal(image1_path, image2_path):\n",
        "    \"\"\"두 이미지의 픽셀값을 직접 비교하는 함수 (손상된 파일 및 숨김 파일 예외 처리)\"\"\"\n",
        "    try:\n",
        "        with Image.open(image1_path) as img1, Image.open(image2_path) as img2:\n",
        "            # 이미지 크기 비교\n",
        "            if img1.size != img2.size:\n",
        "                return False\n",
        "\n",
        "            # 이미지를 NumPy 배열로 변환하여 픽셀값 비교\n",
        "            img1_array = np.array(img1)\n",
        "            img2_array = np.array(img2)\n",
        "\n",
        "            return np.array_equal(img1_array, img2_array)\n",
        "    except Exception as e:\n",
        "        print(f\"이미지 비교 오류: {image1_path}, {image2_path}, 오류: {e}\")\n",
        "        return False\n",
        "\n",
        "def find_and_print_duplicates_across_folders(folder_path):\n",
        "    \"\"\"각 폴더 내 이미지들을 다른 폴더 내 이미지와 비교하여 중복된 이미지 쌍을 출력하는 함수\"\"\"\n",
        "    folder_images = {}  # 각 폴더의 이미지 파일을 저장할 딕셔너리\n",
        "\n",
        "    # 모든 폴더와 이미지 파일을 수집 (각 폴더 별로)\n",
        "    for root, dirs, files in os.walk(folder_path):\n",
        "        image_files = []\n",
        "\n",
        "        # 각 폴더 내 이미지 파일 수집\n",
        "        for file in files:\n",
        "            if not file.startswith('._') and file.lower().endswith(('png', 'jpg', 'jpeg', 'bmp', 'gif')):\n",
        "                file_path = os.path.join(root, file)\n",
        "                image_files.append(file_path)\n",
        "\n",
        "        if image_files:\n",
        "            folder_images[root] = image_files\n",
        "\n",
        "    # 각 폴더의 이미지 파일을 다른 폴더와 비교\n",
        "    folder_keys = list(folder_images.keys())\n",
        "\n",
        "    for i in range(len(folder_keys)):\n",
        "        for j in range(i + 1, len(folder_keys)):\n",
        "            folder1 = folder_keys[i]\n",
        "            folder2 = folder_keys[j]\n",
        "\n",
        "            images_folder1 = folder_images[folder1]\n",
        "            images_folder2 = folder_images[folder2]\n",
        "\n",
        "            # 두 폴더의 이미지 파일 비교\n",
        "            for image1 in images_folder1:\n",
        "                for image2 in images_folder2:\n",
        "                    if images_are_exactly_equal(image1, image2):\n",
        "                        print(f\"중복 이미지 발견: {image2} (다른 폴더), 원본: {image1}\")"
      ]
    },
    {
      "cell_type": "code",
      "execution_count": null,
      "metadata": {
        "id": "JpeNNsxdL9Ls"
      },
      "outputs": [],
      "source": [
        "folder_path = \"/content/data/train\"\n",
        "find_and_print_duplicates_across_folders(folder_path)"
      ]
    }
  ],
  "metadata": {
    "colab": {
      "provenance": []
    },
    "kernelspec": {
      "display_name": "venv",
      "language": "python",
      "name": "python3"
    },
    "language_info": {
      "codemirror_mode": {
        "name": "ipython",
        "version": 3
      },
      "file_extension": ".py",
      "mimetype": "text/x-python",
      "name": "python",
      "nbconvert_exporter": "python",
      "pygments_lexer": "ipython3",
      "version": "3.11.7"
    }
  },
  "nbformat": 4,
  "nbformat_minor": 0
}
